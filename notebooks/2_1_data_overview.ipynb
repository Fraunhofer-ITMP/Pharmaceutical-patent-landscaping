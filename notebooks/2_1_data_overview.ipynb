{
 "cells": [
  {
   "cell_type": "markdown",
   "id": "5ed2ffa1",
   "metadata": {},
   "source": [
    "# Overview on the data from the disease-specifc knowledge graphs"
   ]
  },
  {
   "cell_type": "markdown",
   "id": "bf3b25d6",
   "metadata": {},
   "source": [
    "#### Import Modules"
   ]
  },
  {
   "cell_type": "code",
   "execution_count": 1,
   "id": "297f3022",
   "metadata": {},
   "outputs": [],
   "source": [
    "import pandas as pd"
   ]
  },
  {
   "cell_type": "markdown",
   "id": "dcf6b41b",
   "metadata": {},
   "source": [
    "#### Load data"
   ]
  },
  {
   "cell_type": "code",
   "execution_count": 2,
   "id": "ef76e53c",
   "metadata": {},
   "outputs": [],
   "source": [
    "DATA_DIR = '../data/raw'"
   ]
  },
  {
   "cell_type": "code",
   "execution_count": 3,
   "id": "a3d176f0",
   "metadata": {},
   "outputs": [
    {
     "data": {
      "text/html": [
       "<div>\n",
       "<style scoped>\n",
       "    .dataframe tbody tr th:only-of-type {\n",
       "        vertical-align: middle;\n",
       "    }\n",
       "\n",
       "    .dataframe tbody tr th {\n",
       "        vertical-align: top;\n",
       "    }\n",
       "\n",
       "    .dataframe thead th {\n",
       "        text-align: right;\n",
       "    }\n",
       "</style>\n",
       "<table border=\"1\" class=\"dataframe\">\n",
       "  <thead>\n",
       "    <tr style=\"text-align: right;\">\n",
       "      <th></th>\n",
       "      <th>db_id</th>\n",
       "      <th>disease_name</th>\n",
       "      <th>gene_symbol</th>\n",
       "      <th>pmid</th>\n",
       "    </tr>\n",
       "  </thead>\n",
       "  <tbody>\n",
       "    <tr>\n",
       "      <th>0</th>\n",
       "      <td>166024</td>\n",
       "      <td>Multiple epiphyseal dysplasia, Al-Gazali type</td>\n",
       "      <td>KIF7</td>\n",
       "      <td>22587682[PMID]</td>\n",
       "    </tr>\n",
       "    <tr>\n",
       "      <th>1</th>\n",
       "      <td>93</td>\n",
       "      <td>Aspartylglucosaminuria</td>\n",
       "      <td>AGA</td>\n",
       "      <td>11309371[PMID]</td>\n",
       "    </tr>\n",
       "  </tbody>\n",
       "</table>\n",
       "</div>"
      ],
      "text/plain": [
       "    db_id                                   disease_name gene_symbol  \\\n",
       "0  166024  Multiple epiphyseal dysplasia, Al-Gazali type        KIF7   \n",
       "1      93                         Aspartylglucosaminuria         AGA   \n",
       "\n",
       "             pmid  \n",
       "0  22587682[PMID]  \n",
       "1  11309371[PMID]  "
      ]
     },
     "execution_count": 3,
     "metadata": {},
     "output_type": "execute_result"
    }
   ],
   "source": [
    "orphanet_data = pd.read_csv(f'{DATA_DIR}/orphanet_2021.tsv', sep='\\t')\n",
    "orphanet_data.head(2)"
   ]
  },
  {
   "cell_type": "code",
   "execution_count": 4,
   "id": "5df3148f",
   "metadata": {},
   "outputs": [
    {
     "data": {
      "text/html": [
       "<div>\n",
       "<style scoped>\n",
       "    .dataframe tbody tr th:only-of-type {\n",
       "        vertical-align: middle;\n",
       "    }\n",
       "\n",
       "    .dataframe tbody tr th {\n",
       "        vertical-align: top;\n",
       "    }\n",
       "\n",
       "    .dataframe thead th {\n",
       "        text-align: right;\n",
       "    }\n",
       "</style>\n",
       "<table border=\"1\" class=\"dataframe\">\n",
       "  <thead>\n",
       "    <tr style=\"text-align: right;\">\n",
       "      <th></th>\n",
       "      <th>symbol</th>\n",
       "      <th>uniprot</th>\n",
       "    </tr>\n",
       "  </thead>\n",
       "  <tbody>\n",
       "    <tr>\n",
       "      <th>0</th>\n",
       "      <td>FZD9</td>\n",
       "      <td>O00144</td>\n",
       "    </tr>\n",
       "    <tr>\n",
       "      <th>1</th>\n",
       "      <td>NXF5</td>\n",
       "      <td>Q9H1B4</td>\n",
       "    </tr>\n",
       "  </tbody>\n",
       "</table>\n",
       "</div>"
      ],
      "text/plain": [
       "  symbol uniprot\n",
       "0   FZD9  O00144\n",
       "1   NXF5  Q9H1B4"
      ]
     },
     "execution_count": 4,
     "metadata": {},
     "output_type": "execute_result"
    }
   ],
   "source": [
    "ad_proteins = pd.read_csv(f'{DATA_DIR}/ad_proteins.csv')\n",
    "ad_proteins.head(2)"
   ]
  },
  {
   "cell_type": "markdown",
   "id": "1ee0bca0",
   "metadata": {},
   "source": [
    "### Data statistsics"
   ]
  },
  {
   "cell_type": "markdown",
   "id": "07268bf9",
   "metadata": {},
   "source": [
    "Number of proteins"
   ]
  },
  {
   "cell_type": "code",
   "execution_count": 6,
   "id": "a06b3aa5",
   "metadata": {},
   "outputs": [
    {
     "data": {
      "text/plain": [
       "4314"
      ]
     },
     "execution_count": 6,
     "metadata": {},
     "output_type": "execute_result"
    }
   ],
   "source": [
    "len(orphanet_data['gene_symbol'].unique())"
   ]
  },
  {
   "cell_type": "code",
   "execution_count": 7,
   "id": "bd655140",
   "metadata": {},
   "outputs": [
    {
     "data": {
      "text/plain": [
       "8328"
      ]
     },
     "execution_count": 7,
     "metadata": {},
     "output_type": "execute_result"
    }
   ],
   "source": [
    "len(ad_proteins['symbol'].unique())"
   ]
  },
  {
   "cell_type": "markdown",
   "id": "d809619e",
   "metadata": {},
   "source": [
    "Number of diseases"
   ]
  },
  {
   "cell_type": "code",
   "execution_count": 8,
   "id": "d3b170ba",
   "metadata": {},
   "outputs": [
    {
     "data": {
      "text/plain": [
       "3888"
      ]
     },
     "execution_count": 8,
     "metadata": {},
     "output_type": "execute_result"
    }
   ],
   "source": [
    "len(orphanet_data['db_id'].unique())"
   ]
  }
 ],
 "metadata": {
  "kernelspec": {
   "display_name": "patent_kg",
   "language": "python",
   "name": "patent_kg"
  },
  "language_info": {
   "codemirror_mode": {
    "name": "ipython",
    "version": 3
   },
   "file_extension": ".py",
   "mimetype": "text/x-python",
   "name": "python",
   "nbconvert_exporter": "python",
   "pygments_lexer": "ipython3",
   "version": "3.9.13"
  }
 },
 "nbformat": 4,
 "nbformat_minor": 5
}
